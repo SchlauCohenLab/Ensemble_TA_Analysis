{
 "cells": [
  {
   "cell_type": "markdown",
   "id": "c2c1035fb0233df",
   "metadata": {
    "collapsed": false
   },
   "source": [
    "# Code to visualize and correct TA data "
   ]
  },
  {
   "cell_type": "markdown",
   "id": "7a24491a94947c96",
   "metadata": {
    "collapsed": false
   },
   "source": [
    "Code to import and visualize the TA data. You also have the possibility to chrip correct,remove the coherence using the solvent scan as a reference, and smooth the data\n",
    "\n",
    "Arthur Vard - varthur@mit.edu"
   ]
  },
  {
   "cell_type": "markdown",
   "id": "500c96b467b7d92e",
   "metadata": {
    "collapsed": false
   },
   "source": [
    "# Prelude"
   ]
  },
  {
   "cell_type": "code",
   "execution_count": null,
   "id": "970235454629eb50",
   "metadata": {
    "collapsed": false
   },
   "outputs": [],
   "source": [
    "import numpy as np\n",
    "import tkinter as tk\n",
    "from tkinter import Tk, filedialog\n",
    "import matplotlib.pyplot as plt\n",
    "import matplotlib.gridspec as gridspec\n",
    "import scipy.io\n",
    "import xarray as xr\n",
    "from tkinter.filedialog import askopenfilename, askopenfilenames\n",
    "from matplotlib.ticker import MaxNLocator\n",
    "import os\n",
    "%matplotlib widget\n",
    "\n",
    "# allow multiple outputs in one cell\n",
    "from IPython.core.interactiveshell import InteractiveShell\n",
    "InteractiveShell.ast_node_interactivity = 'all'\n",
    "\n",
    "def heatmap_interactive(_x, _y, _data, _title, _cmap='jet', _symlog=False):\n",
    "    fig = plt.figure(figsize=(8, 8))\n",
    "    gs = gridspec.GridSpec(2, 2, width_ratios=[1, 0.5], height_ratios=[0.5, 1], hspace=0.2, wspace=0.2)\n",
    "    ax_main = plt.subplot(gs[1, 0])\n",
    "    main_plot = ax_main.pcolormesh(_x, _y, _data, cmap=_cmap)\n",
    "    ax_main.set(xlabel='Delay / ps', ylabel='Wavelength / nm')\n",
    "    # set mixed log-lin scale with threshold value linthresh\n",
    "    if _symlog:\n",
    "        ax_main.set_xscale('symlog', linthresh=0.01)\n",
    "    # set axis range to min and max values\n",
    "    ax_main.set_xlim(_x[0],_x[-1])\n",
    "    ax_main.set_ylim(_y[0],_y[-1]) \n",
    "\n",
    "    ax_kin = plt.subplot(gs[0, 0])\n",
    "    line_kin, = ax_kin.plot(_x,np.zeros(_x.shape))\n",
    "    kin_zero_line, = ax_kin.plot([_x[0],_x[-1]],[0,0], color=\"0.6\")\n",
    "    ax_kin.set_xlim(_x[0],_x[-1])\n",
    "    if _symlog:\n",
    "        ax_kin.set_xscale('symlog', linthresh=0.01)\n",
    "\n",
    "    ax_spec = plt.subplot(gs[1, 1])\n",
    "    line_spec, = ax_spec.plot(np.zeros(_y.shape),_y)\n",
    "    spec_zero_line, = ax_spec.plot([0,0],[_y[0],_y[-1]], color=\"0.6\")\n",
    "    ax_spec.set_ylim(_y[0],_y[-1])        \n",
    "    \n",
    "    # This lower bounds list is necessary because the blocks in the 2D-plot cover a certain range\n",
    "    def create_lower_bounds(_value_list):\n",
    "        result = np.empty_like(_value_list)\n",
    "        #first lower bound is equal to the lowest value in the nm-list\n",
    "        result[0] = _value_list[0]\n",
    "        #example: lower bound for 100 ps is 97.5 ps if the value prior is 95 ps, and 75 ps if the value prior is 50 ps.\n",
    "        for i in range(1,len(_value_list)):\n",
    "            result[i] = (_value_list[i]+_value_list[i-1])/2\n",
    "        return result    \n",
    "    \n",
    "    nm_lower_bounds = create_lower_bounds(_y)\n",
    "    time_lower_bounds = create_lower_bounds(_x)\n",
    "    \n",
    "    def nm_to_index(_nm):\n",
    "        return np.where(_nm > nm_lower_bounds)[0][-1]\n",
    "    \n",
    "    def time_to_index(_time):\n",
    "        return np.where(_time > time_lower_bounds)[0][-1]\n",
    "    \n",
    "    def mouse_move(event):\n",
    "        x = event.xdata\n",
    "        y = event.ydata\n",
    "        if x is not None and y is not None:\n",
    "            if x>=_x[0] and x<=_x[-1] and y>=_y[0] and y<=_y[-1]:\n",
    "                # update spectra slice and rescale\n",
    "                new_spec = _data[:,time_to_index(x)]\n",
    "                line_spec.set_xdata(new_spec)\n",
    "                spec_bounds = ax_spec.get_ylim()\n",
    "                spec_range = new_spec[(_y>=spec_bounds[0]) & (_y<=spec_bounds[1])].max()-new_spec[(_y>=spec_bounds[0]) & (_y<=spec_bounds[1])].min()\n",
    "                ax_spec.set_xlim(new_spec[(_y>=spec_bounds[0]) & (_y<=spec_bounds[1])].min()-0.1*spec_range,new_spec[(_y>=spec_bounds[0]) & (_y<=spec_bounds[1])].max()+0.1*spec_range)            \n",
    "\n",
    "                # update kinetic slice and rescale\n",
    "                new_kin = _data[nm_to_index(y),:]\n",
    "                line_kin.set_ydata(new_kin)\n",
    "                kin_bounds = ax_kin.get_xlim()  \n",
    "                kin_range = new_kin[(_x>=kin_bounds[0]) & (_x<=kin_bounds[1])].max()-new_kin[(_x>=kin_bounds[0]) & (_x<=kin_bounds[1])].min()                \n",
    "                ax_kin.set_ylim(new_kin[(_x>=kin_bounds[0]) & (_x<=kin_bounds[1])].min()-0.1*kin_range,new_kin[(_x>=kin_bounds[0]) & (_x<=kin_bounds[1])].max()+0.1*kin_range)\n",
    "                \n",
    "                # redraw figure\n",
    "                fig.canvas.draw_idle()\n",
    "             \n",
    "    fig.canvas.mpl_connect('motion_notify_event', mouse_move) \n",
    "    \n",
    "    # find max absolute value of 2D data in the specified zoom mode of the plot\n",
    "    def get_maxvalue(_xlim, _ylim, _xvals, _yvals, _data_array):\n",
    "        y_filter = (_yvals>=_ylim[0]) & (_yvals<=_ylim[1])\n",
    "        x_filter = (_xvals>=_xlim[0]) & (_xvals<=_xlim[1])\n",
    "        \n",
    "        if not np.all(y_filter == False) and not np.all(x_filter == False):\n",
    "            return np.amax(np.abs(_data_array[y_filter][:,x_filter]))\n",
    "        else:\n",
    "            return 0\n",
    "    \n",
    "    def on_xlims_change(event_ax):\n",
    "        ax_kin.set_xlim(event_ax.get_xlim())\n",
    "        \n",
    "        new_max = get_maxvalue(event_ax.get_xlim(),event_ax.get_ylim(),_x,_y,_data)\n",
    "        if new_max > 0:\n",
    "            main_plot.set_clim(vmin=-new_max, vmax=new_max)\n",
    "\n",
    "    def on_ylims_change(event_ax):\n",
    "        ax_spec.set_ylim(event_ax.get_ylim())\n",
    "        \n",
    "        new_max = get_maxvalue(event_ax.get_xlim(),event_ax.get_ylim(),_x,_y,_data)\n",
    "        if new_max > 0:\n",
    "            main_plot.set_clim(vmin=-new_max, vmax=new_max)        \n",
    "\n",
    "    ax_main.callbacks.connect('xlim_changed', on_xlims_change)\n",
    "    ax_main.callbacks.connect('ylim_changed', on_ylims_change)\n",
    "   \n",
    "    plt.show(block=False)"
   ]
  },
  {
   "cell_type": "markdown",
   "id": "657a3ef484c4cc98",
   "metadata": {
    "collapsed": false
   },
   "source": [
    "# Import data"
   ]
  },
  {
   "cell_type": "code",
   "execution_count": null,
   "id": "3175b767965a52fc",
   "metadata": {
    "collapsed": false
   },
   "outputs": [],
   "source": [
    "#Pump Wavelenght (in nm)\n",
    "Pump = 400 \n",
    "\n",
    "#Wavelength Calibaration\n",
    "pixels = np.arange(0, 2048)\n",
    "calibration = [0.2380, 301.8]  # A and B linear calibration parameters\n",
    "lambda_values = calibration[0] * pixels + calibration[1]\n",
    "\n",
    "#Get time vector data file\n",
    "time_file = askopenfilename(filetypes=[(\"Text files\", \"*.txt\")], title=\"Select Time vector data\")\n",
    "time = np.loadtxt(time_file)\n",
    "# time = time / 1000  # convert from fs to ps\n",
    "\n",
    "# Get TA scan files\n",
    "ta_scan_files = askopenfilenames(filetypes=[(\"Text files\", \"*.txt\")], title=\"Select TA scan files\")\n",
    "\n",
    "if len(ta_scan_files) > 1:\n",
    "    Full_Data = np.zeros((2048, len(time), len(ta_scan_files))) #Array that will contain all the \n",
    "    for n, file in enumerate(ta_scan_files):\n",
    "        data = np.loadtxt(file)\n",
    "        Full_Data[:, :, n] = data  # save data array to 3D array (lambda, time, scan)\n",
    "    \n",
    "    for ii in range(len(ta_scan_files)): #Flip the sign if pump scatter is not negative.\n",
    "        for jj in range(len(time)):\n",
    "            if Full_Data[Pump, jj, ii] > 0:\n",
    "                Full_Data[:, jj, ii] *= -1\n",
    "\n",
    "    scan = np.mean(Full_Data, axis=2)\n",
    "else:\n",
    "    scan = np.loadtxt(ta_scan_files[0])\n",
    "# Now 'scan' contains the processed data\n",
    "\n",
    "#Create an xarray to manipulate the data (much easier)\n",
    "dataset = xr.Dataset(\n",
    "    {\n",
    "        \"data\": ([\"time\",\"spectral\",], np.transpose(scan))\n",
    "    },\n",
    "    coords={\n",
    "        \"time\": time,\n",
    "        \"spectral\": lambda_values\n",
    "    }\n",
    ")\n",
    "\n",
    "# Print the dataset\n",
    "print(dataset)"
   ]
  },
  {
   "cell_type": "markdown",
   "id": "b2619d5c138d4ebd",
   "metadata": {
    "collapsed": false
   },
   "source": [
    "# Heat map visualization of the data"
   ]
  },
  {
   "cell_type": "code",
   "execution_count": null,
   "id": "ba098a27695bc91d",
   "metadata": {
    "collapsed": false
   },
   "outputs": [],
   "source": [
    "heatmap_interactive(time, lambda_values, scan,'Averaged scan plot',_symlog=False)"
   ]
  },
  {
   "cell_type": "markdown",
   "id": "880bdf4d777d2586",
   "metadata": {
    "collapsed": false
   },
   "source": [
    "# Look at a specific TA trace or spectrum"
   ]
  },
  {
   "cell_type": "markdown",
   "id": "8e706d6e032506f2",
   "metadata": {
    "collapsed": false
   },
   "source": [
    "## TA trace"
   ]
  },
  {
   "cell_type": "code",
   "execution_count": null,
   "id": "d16a2ae213ceb072",
   "metadata": {
    "collapsed": false
   },
   "outputs": [],
   "source": [
    "plot_data = dataset.data.sel(spectral=[597], method=\"nearest\").sel(time=slice(None, 10))\n",
    "plot_data.plot.line(x=\"time\", aspect=2, size=5);"
   ]
  },
  {
   "cell_type": "markdown",
   "id": "329c984aa7ed15e7",
   "metadata": {
    "collapsed": false
   },
   "source": [
    "## TA spectrum"
   ]
  },
  {
   "cell_type": "code",
   "execution_count": null,
   "id": "7de598618f659038",
   "metadata": {
    "collapsed": false
   },
   "outputs": [],
   "source": [
    "plot_data = dataset.data.sel(time=[10,25], method=\"nearest\").sel(spectral=slice(409, 755))\n",
    "ax = plot_data.plot.line(x=\"spectral\", aspect=2, size=5)\n",
    "plt.grid(True) \n",
    "plt.show()"
   ]
  },
  {
   "cell_type": "markdown",
   "id": "a5f50e3c61d66f14",
   "metadata": {
    "collapsed": false
   },
   "source": [
    "# Import solvent data"
   ]
  },
  {
   "cell_type": "code",
   "execution_count": null,
   "id": "05a7ac65-bf5d-401b-a720-1d18d1b7c3f1",
   "metadata": {},
   "outputs": [],
   "source": [
    "#Get time vector data file\n",
    "time_file = askopenfilename(filetypes=[(\"Text files\", \"*.txt\")], title=\"Select Time vector data\")\n",
    "time = np.loadtxt(time_file)\n",
    "# time = time / 1000  # convert from fs to ps\n",
    "\n",
    "# Get TA scan files\n",
    "ta_scan_files = askopenfilenames(filetypes=[(\"Text files\", \"*.txt\")], title=\"Select solvent scan file(s)\")\n",
    "\n",
    "if len(ta_scan_files) > 1:\n",
    "    Full_Data = np.zeros((2048, len(time), len(ta_scan_files))) #Array that will contain all the \n",
    "    for n, file in enumerate(ta_scan_files):\n",
    "        data = np.loadtxt(file)\n",
    "        Full_Data[:, :, n] = data  # save data array to 3D array (lambda, time, scan)\n",
    "    \n",
    "    for ii in range(len(ta_scan_files)): #Flip the sign if pump scatter is not negative.\n",
    "        for jj in range(len(time)):\n",
    "            if Full_Data[Pump, jj, ii] > 0:\n",
    "                Full_Data[:, jj, ii] *= -1\n",
    "\n",
    "    scan_solvent = np.mean(Full_Data, axis=2)\n",
    "else:\n",
    "    scan_solvent = np.loadtxt(ta_scan_files[0])\n",
    "# Now 'scan' contains the processed data\n",
    "\n",
    "#Create an xarray to manipulate the data (much easier)\n",
    "dataset_solvent = xr.Dataset(\n",
    "    {\n",
    "        \"data\": ([\"time\",\"spectral\",], np.transpose(scan_solvent))\n",
    "    },\n",
    "    coords={\n",
    "        \"time\": time,\n",
    "        \"spectral\": lambda_values\n",
    "    }\n",
    ")\n",
    "\n",
    "# Print the dataset\n",
    "print(dataset_solvent)"
   ]
  },
  {
   "cell_type": "code",
   "execution_count": null,
   "id": "54af0644-aa49-43d1-97cb-9c0ee4be1347",
   "metadata": {},
   "outputs": [],
   "source": [
    "heatmap_interactive(dataset_solvent.time, dataset_solvent.spectral, dataset_solvent['data'].transpose('spectral','time'),'Averaged scan plot',_symlog=False)"
   ]
  },
  {
   "cell_type": "markdown",
   "id": "35836b90-fc86-4aea-a232-285fab7b8e52",
   "metadata": {},
   "source": [
    "Visualization of the Solvent and data kinetic trace to see effect of substraction "
   ]
  },
  {
   "cell_type": "code",
   "execution_count": null,
   "id": "7c1238dc-3fc3-425b-a574-034e74e1d184",
   "metadata": {},
   "outputs": [],
   "source": [
    "# Select the data from both datasets\n",
    "wv = 597 #in nm \n",
    "\n",
    "plot_data_solvent = dataset_solvent.data.sel(spectral=[wv], method=\"nearest\").sel(time=slice(None, 10))\n",
    "plot_data = dataset.data.sel(spectral=[wv], method=\"nearest\").sel(time=slice(None, 10))\n",
    "\n",
    "# Create a plot\n",
    "plt.figure(figsize=(10, 5))\n",
    "\n",
    "# Plot the solvent data\n",
    "plt.plot(plot_data_solvent.time, plot_data_solvent, label='Solvent Data')\n",
    "\n",
    "# Plot the other dataset\n",
    "plt.plot(plot_data.time, plot_data, label='Cu(dmp) Data')\n",
    "\n",
    "# Add labels and title\n",
    "plt.xlabel('Time in ps')\n",
    "plt.ylabel('OD')\n",
    "plt.title(f'Solvent Data vs. Cu(dmp)2 at {wv} nm')\n",
    "# Add a legend\n",
    "plt.legend()\n",
    "plt.grid(\"On\")\n",
    "# Show the plot\n",
    "plt.show()"
   ]
  },
  {
   "cell_type": "markdown",
   "id": "e8cb6c63-b371-4a29-9aeb-3ae64461b9cd",
   "metadata": {},
   "source": [
    "# Chirp correction from the solvent using a Fit "
   ]
  },
  {
   "cell_type": "markdown",
   "id": "9fc3a772-f3cf-4c8e-a235-03418e9a8102",
   "metadata": {},
   "source": [
    "Import necesaary librairies and define fits that can be useful "
   ]
  },
  {
   "cell_type": "code",
   "execution_count": null,
   "id": "4d225ba4-73be-4acd-af04-7d7d71ee725f",
   "metadata": {},
   "outputs": [],
   "source": [
    "from scipy.optimize import curve_fit\n",
    "\n",
    "def poly2(x, a, b, c):\n",
    "    return a * x**2 + b * x + c\n",
    "\n",
    "\n",
    "def poly4(x, a, b, c, d, e):\n",
    "    return a * x**4 + b * x**3 + c * x**2 + d * x + e\n",
    "\n",
    "def lin(x,a,b):\n",
    "    return a*x+b"
   ]
  },
  {
   "cell_type": "code",
   "execution_count": null,
   "id": "202349ed-75b9-422c-b1d5-924d4c26afc8",
   "metadata": {},
   "outputs": [],
   "source": [
    "# Initialization of the matices \n",
    "\n",
    "lower_spectral_bound = 470 #in nm\n",
    "higher_spectral_bound = 706 #in nm\n",
    "spectral_region = dataset_solvent.sel(spectral=slice(lower_spectral_bound, higher_spectral_bound)).spectral\n",
    "time_coherence = np.zeros_like(spectral_region)\n",
    "\n",
    "for i in range(0,np.size(time_coherence)): #Find where is the maximum coherence in time \n",
    "    time_coherence[i] = time[dataset_solvent.data.sel(spectral=spectral_region[i], method=\"nearest\").argmax(dim='time')]\n",
    "\n",
    "#Fit \n",
    "params_l, _ = curve_fit(poly4, spectral_region, time_coherence)\n",
    "Fit_coherence = poly4(spectral_region,*params_l)\n",
    "\n",
    "#Substraction\n",
    "time_chirp_corrected = np.zeros((np.shape(spectral_region)[0],np.shape(time)[0]))\n",
    "for i in range(0,np.size(time_coherence)):\n",
    "    time_chirp_corrected[i,:] = time - np.array(Fit_coherence[i])\n",
    "\n",
    "\n",
    "plt.figure()\n",
    "plt.plot(spectral_region, time_coherence, 'o', label='Data')\n",
    "plt.plot(spectral_region, Fit_coherence, '-', label='Fit')\n",
    "plt.xlabel('Wavelength (in nm)')\n",
    "plt.ylabel('Position of the coherence max (in ps)')\n",
    "plt.legend()\n",
    "plt.grid(\"On\")\n",
    "plt.show()"
   ]
  },
  {
   "cell_type": "markdown",
   "id": "3556bc29-da94-4bea-8d63-6cbca334085f",
   "metadata": {},
   "source": [
    "## Chirp Correct the solvent data "
   ]
  },
  {
   "cell_type": "code",
   "execution_count": null,
   "id": "ce4cb9d5-30ca-4f19-ba18-8fd053c28798",
   "metadata": {},
   "outputs": [],
   "source": [
    "from scipy.interpolate import interp1d\n",
    "\n",
    "# Make a deep copy of the original dataset\n",
    "chirp_corrected_solvent = dataset_solvent.copy(deep=True)\n",
    "\n",
    "for i in range(0,np.size(time_coherence)):\n",
    "    spectral_val = spectral_region[i]\n",
    "    time_chirp = time_chirp_corrected[i, :]\n",
    "    data_slice = chirp_corrected_solvent.data.sel(spectral=spectral_val)\n",
    "    \n",
    "    # Perform interpolation\n",
    "    interpolated_function = interp1d(time_chirp,data_slice,bounds_error=False, fill_value=\"extrapolate\")\n",
    "    interpolated_data = interpolated_function(time)\n",
    "    \n",
    "    # Assign the interpolated data back to the dataset\n",
    "    chirp_corrected_solvent.data.loc[:, spectral_val] = interpolated_data\n",
    "\n",
    "#Set NaN values to 0\n",
    "chirp_corrected_solvent.data.values = np.nan_to_num(chirp_corrected_solvent.data.values)"
   ]
  },
  {
   "cell_type": "code",
   "execution_count": null,
   "id": "f2a971a3-9b33-4b76-a754-05c069b9bf66",
   "metadata": {},
   "outputs": [],
   "source": [
    "heatmap_interactive(chirp_corrected_solvent.time, chirp_corrected_solvent.spectral, chirp_corrected_solvent['data'].transpose('spectral','time'),'Averaged scan plot',_symlog=False)\n"
   ]
  },
  {
   "cell_type": "markdown",
   "id": "88b31ed2-d364-494e-947e-2a0075854c4c",
   "metadata": {},
   "source": [
    "# Chirp correct the data using the solvent fit "
   ]
  },
  {
   "cell_type": "code",
   "execution_count": null,
   "id": "807b4180-d562-4e8b-85b1-3233829ca345",
   "metadata": {},
   "outputs": [],
   "source": [
    "chirp_corrected_data = dataset.copy(deep=True)\n",
    "\n",
    "for i in range(0,np.size(time_coherence)):\n",
    "    spectral_val = spectral_region[i]\n",
    "    time_chirp = time_chirp_corrected[i, :]\n",
    "    data_slice = chirp_corrected_data.data.sel(spectral=spectral_val)\n",
    "    \n",
    "    # Perform interpolation\n",
    "    interpolated_function = interp1d(time_chirp,data_slice,bounds_error=False, fill_value=\"extrapolate\")\n",
    "    interpolated_data = interpolated_function(time)\n",
    "    \n",
    "    # Assign the interpolated data back to the dataset\n",
    "    chirp_corrected_data.data.loc[:, spectral_val] = interpolated_data\n"
   ]
  },
  {
   "cell_type": "code",
   "execution_count": null,
   "id": "0857d5d5-7eb0-4852-a2fb-0fbbe05a5600",
   "metadata": {},
   "outputs": [],
   "source": [
    "heatmap_interactive(chirp_corrected_data.time, chirp_corrected_data.spectral, chirp_corrected_data['data'].transpose('spectral','time'),'Averaged scan plot',_symlog=False)\n"
   ]
  },
  {
   "cell_type": "markdown",
   "id": "b6ce779f-4f66-42b2-9bdb-4f05b95091ae",
   "metadata": {},
   "source": [
    "# Remove the coherence from the sample by substraction sample "
   ]
  },
  {
   "cell_type": "markdown",
   "id": "6efb3729-2fd3-496a-b6ef-cc92b7725f0b",
   "metadata": {},
   "source": [
    "## Initial look at both chirp corrected traces "
   ]
  },
  {
   "cell_type": "code",
   "execution_count": null,
   "id": "fe717b36-71c2-451d-8186-2e448b8dfd54",
   "metadata": {},
   "outputs": [],
   "source": [
    "# Select the data from both datasets\n",
    "wv = 515 #in nm\n",
    "\n",
    "plot_data_solvent = chirp_corrected_solvent.data.sel(spectral=[wv], method=\"nearest\").sel(time=slice(None, 30))\n",
    "plot_data = chirp_corrected_data.data.sel(spectral=[wv], method=\"nearest\").sel(time=slice(None, 30))\n",
    "\n",
    "# Create a plot\n",
    "plt.figure(figsize=(10, 5))\n",
    "\n",
    "# Plot the solvent data\n",
    "plt.plot(plot_data_solvent.time, plot_data_solvent, label='Solvent Data')\n",
    "\n",
    "# Plot the other dataset\n",
    "plt.plot(plot_data.time, plot_data, label='Cu(dmp) Data')\n",
    "\n",
    "# Add labels and title\n",
    "plt.xlabel('Time in ps')\n",
    "plt.ylabel('OD')\n",
    "plt.title(f'Chriped corrected Solvent Data vs. Cu(dmp)2 at {wv} nm')\n",
    "# Add a legend\n",
    "plt.legend()\n",
    "plt.grid(\"On\")\n",
    "# Show the plot\n",
    "plt.show()"
   ]
  },
  {
   "cell_type": "markdown",
   "id": "26498060-28e4-4c20-ab00-26514ca489f1",
   "metadata": {},
   "source": [
    "## Subtraction"
   ]
  },
  {
   "cell_type": "code",
   "execution_count": null,
   "id": "e7947fa0-22fd-4bad-925d-e75ef32b059c",
   "metadata": {},
   "outputs": [],
   "source": [
    "processed_data = chirp_corrected_data - chirp_corrected_solvent"
   ]
  },
  {
   "cell_type": "code",
   "execution_count": null,
   "id": "8a6c4345-cfeb-4def-a53c-6d91f7eff322",
   "metadata": {},
   "outputs": [],
   "source": [
    "wv = 597 #in nm\n",
    "\n",
    "plot_data = processed_data.data.sel(spectral=[wv], method=\"nearest\").sel(time=slice(None, 80))\n",
    "\n",
    "# Create a plot\n",
    "plt.figure(figsize=(10, 5))\n",
    "\n",
    "# Plot the other dataset\n",
    "plt.plot(plot_data.time, plot_data, label='Cu(dmp) Data')\n",
    "\n",
    "# Add labels and title\n",
    "plt.xlabel('Time in ps')\n",
    "plt.ylabel('OD')\n",
    "plt.title(f'Chriped corrected & substracted Data at {wv} nm')\n",
    "# Add a legend\n",
    "plt.legend()\n",
    "plt.grid(\"On\")\n",
    "# Show the plot\n",
    "plt.show()"
   ]
  },
  {
   "cell_type": "markdown",
   "id": "dfee07be-4407-40b4-ac9f-cd23a34609dd",
   "metadata": {},
   "source": [
    "# Smoothing the data"
   ]
  },
  {
   "cell_type": "code",
   "execution_count": null,
   "id": "5ba42a1b-ce38-421f-90fd-cfc54c5c5978",
   "metadata": {},
   "outputs": [],
   "source": [
    "# Define the moving average window size\n",
    "window_size = 3\n",
    "window = np.ones(window_size) / window_size\n",
    "\n",
    "def smooth_data(data, window):\n",
    "    return np.apply_along_axis(lambda m: np.convolve(m, window, mode='same'), axis=0, arr=data)\n"
   ]
  },
  {
   "cell_type": "code",
   "execution_count": null,
   "id": "aa76511b-7622-44e3-b7f8-6ec52b3f938a",
   "metadata": {},
   "outputs": [],
   "source": [
    "smoothed_data = smooth_data(processed_data.data.values, window)\n",
    "\n",
    "smoothed_dataset = xr.Dataset(\n",
    "    {\n",
    "        \"data\": ([\"time\", \"spectral\"], smoothed_data)\n",
    "    },\n",
    "    coords={\n",
    "        \"time\": processed_data.time.values,\n",
    "        \"spectral\": processed_data.spectral.values\n",
    "    }\n",
    ")\n"
   ]
  },
  {
   "cell_type": "code",
   "execution_count": null,
   "id": "2dfb521e-ed4c-460c-b56e-7c1bc4980cff",
   "metadata": {},
   "outputs": [],
   "source": [
    "wv = 520 #in nm\n",
    "\n",
    "plot_data = smoothed_dataset.data.sel(spectral=[wv], method=\"nearest\").sel(time=slice(None, 80))\n",
    "\n",
    "# Create a plot\n",
    "plt.figure(figsize=(10, 5))\n",
    "\n",
    "# Plot the other dataset\n",
    "plt.plot(plot_data.time, plot_data, label='Cu(dmp) Data')\n",
    "\n",
    "# Add labels and title\n",
    "plt.xlabel('Time in ps')\n",
    "plt.ylabel('OD')\n",
    "plt.title(f'Fully processed Data at {wv} nm')\n",
    "# Add a legend\n",
    "plt.legend()\n",
    "plt.grid(\"On\")\n",
    "# Show the plot\n",
    "plt.show()"
   ]
  },
  {
   "cell_type": "code",
   "execution_count": null,
   "id": "f1e12a29-285a-4670-8de4-448923a132ca",
   "metadata": {},
   "outputs": [],
   "source": [
    "heatmap_interactive(smoothed_dataset.time, smoothed_dataset.spectral, smoothed_dataset['data'].transpose('spectral','time'),'Averaged scan plot',_symlog=False)"
   ]
  },
  {
   "cell_type": "markdown",
   "id": "6d011297-423f-41ba-8b1a-ad571b800024",
   "metadata": {},
   "source": [
    "# Save xarray for pyglotaran "
   ]
  },
  {
   "cell_type": "code",
   "execution_count": null,
   "id": "270ad184-cef6-467d-897e-966b7087f696",
   "metadata": {},
   "outputs": [],
   "source": [
    "# Save the dataset to a NetCDF file\n",
    "smoothed_dataset.to_netcdf(\"Cu(dmp)2_fully_processed.nc\")"
   ]
  }
 ],
 "metadata": {
  "kernelspec": {
   "display_name": "Python 3 (ipykernel)",
   "language": "python",
   "name": "python3"
  },
  "language_info": {
   "codemirror_mode": {
    "name": "ipython",
    "version": 3
   },
   "file_extension": ".py",
   "mimetype": "text/x-python",
   "name": "python",
   "nbconvert_exporter": "python",
   "pygments_lexer": "ipython3",
   "version": "3.10.14"
  }
 },
 "nbformat": 4,
 "nbformat_minor": 5
}
