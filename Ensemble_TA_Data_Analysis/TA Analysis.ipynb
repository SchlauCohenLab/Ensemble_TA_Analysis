{
 "cells": [
  {
   "cell_type": "markdown",
   "source": [
    "# Code to visualize TA data "
   ],
   "metadata": {
    "collapsed": false
   },
   "id": "c2c1035fb0233df"
  },
  {
   "cell_type": "markdown",
   "source": [
    "Arthur Vard - varthur@mit.edu"
   ],
   "metadata": {
    "collapsed": false
   },
   "id": "7a24491a94947c96"
  },
  {
   "cell_type": "markdown",
   "source": [
    "# Prelude"
   ],
   "metadata": {
    "collapsed": false
   },
   "id": "500c96b467b7d92e"
  },
  {
   "cell_type": "code",
   "outputs": [],
   "source": [
    "import numpy as np\n",
    "import tkinter as tk\n",
    "from tkinter import Tk, filedialog\n",
    "import matplotlib.pyplot as plt\n",
    "import matplotlib.gridspec as gridspec\n",
    "import scipy.io\n",
    "import xarray as xr\n",
    "from tkinter.filedialog import askopenfilename, askopenfilenames\n",
    "from matplotlib.ticker import MaxNLocator\n",
    "import os\n",
    "%matplotlib widget\n",
    "\n",
    "# allow multiple outputs in one cell\n",
    "from IPython.core.interactiveshell import InteractiveShell\n",
    "InteractiveShell.ast_node_interactivity = 'all'\n",
    "\n",
    "def heatmap_interactive(_x, _y, _data, _title, _cmap='jet', _symlog=False):\n",
    "    fig = plt.figure(figsize=(8, 8))\n",
    "    gs = gridspec.GridSpec(2, 2, width_ratios=[1, 0.5], height_ratios=[0.5, 1], hspace=0.2, wspace=0.2)\n",
    "    ax_main = plt.subplot(gs[1, 0])\n",
    "    main_plot = ax_main.pcolormesh(_x, _y, _data, cmap=_cmap)\n",
    "    ax_main.set(xlabel='Delay / ps', ylabel='Wavelength / nm')\n",
    "    # set mixed log-lin scale with threshold value linthresh\n",
    "    if _symlog:\n",
    "        ax_main.set_xscale('symlog', linthresh=0.01)\n",
    "    # set axis range to min and max values\n",
    "    ax_main.set_xlim(_x[0],_x[-1])\n",
    "    ax_main.set_ylim(_y[0],_y[-1]) \n",
    "\n",
    "    ax_kin = plt.subplot(gs[0, 0])\n",
    "    line_kin, = ax_kin.plot(_x,np.zeros(_x.shape))\n",
    "    kin_zero_line, = ax_kin.plot([_x[0],_x[-1]],[0,0], color=\"0.6\")\n",
    "    ax_kin.set_xlim(_x[0],_x[-1])\n",
    "    if _symlog:\n",
    "        ax_kin.set_xscale('symlog', linthresh=0.01)\n",
    "\n",
    "    ax_spec = plt.subplot(gs[1, 1])\n",
    "    line_spec, = ax_spec.plot(np.zeros(_y.shape),_y)\n",
    "    spec_zero_line, = ax_spec.plot([0,0],[_y[0],_y[-1]], color=\"0.6\")\n",
    "    ax_spec.set_ylim(_y[0],_y[-1])        \n",
    "    \n",
    "    # This lower bounds list is necessary because the blocks in the 2D-plot cover a certain range\n",
    "    def create_lower_bounds(_value_list):\n",
    "        result = np.empty_like(_value_list)\n",
    "        #first lower bound is equal to the lowest value in the nm-list\n",
    "        result[0] = _value_list[0]\n",
    "        #example: lower bound for 100 ps is 97.5 ps if the value prior is 95 ps, and 75 ps if the value prior is 50 ps.\n",
    "        for i in range(1,len(_value_list)):\n",
    "            result[i] = (_value_list[i]+_value_list[i-1])/2\n",
    "        return result    \n",
    "    \n",
    "    nm_lower_bounds = create_lower_bounds(_y)\n",
    "    time_lower_bounds = create_lower_bounds(_x)\n",
    "    \n",
    "    def nm_to_index(_nm):\n",
    "        return np.where(_nm > nm_lower_bounds)[0][-1]\n",
    "    \n",
    "    def time_to_index(_time):\n",
    "        return np.where(_time > time_lower_bounds)[0][-1]\n",
    "    \n",
    "    def mouse_move(event):\n",
    "        x = event.xdata\n",
    "        y = event.ydata\n",
    "        if x is not None and y is not None:\n",
    "            if x>=_x[0] and x<=_x[-1] and y>=_y[0] and y<=_y[-1]:\n",
    "                # update spectra slice and rescale\n",
    "                new_spec = _data[:,time_to_index(x)]\n",
    "                line_spec.set_xdata(new_spec)\n",
    "                spec_bounds = ax_spec.get_ylim()\n",
    "                spec_range = new_spec[(_y>=spec_bounds[0]) & (_y<=spec_bounds[1])].max()-new_spec[(_y>=spec_bounds[0]) & (_y<=spec_bounds[1])].min()\n",
    "                ax_spec.set_xlim(new_spec[(_y>=spec_bounds[0]) & (_y<=spec_bounds[1])].min()-0.1*spec_range,new_spec[(_y>=spec_bounds[0]) & (_y<=spec_bounds[1])].max()+0.1*spec_range)            \n",
    "\n",
    "                # update kinetic slice and rescale\n",
    "                new_kin = _data[nm_to_index(y),:]\n",
    "                line_kin.set_ydata(new_kin)\n",
    "                kin_bounds = ax_kin.get_xlim()  \n",
    "                kin_range = new_kin[(_x>=kin_bounds[0]) & (_x<=kin_bounds[1])].max()-new_kin[(_x>=kin_bounds[0]) & (_x<=kin_bounds[1])].min()                \n",
    "                ax_kin.set_ylim(new_kin[(_x>=kin_bounds[0]) & (_x<=kin_bounds[1])].min()-0.1*kin_range,new_kin[(_x>=kin_bounds[0]) & (_x<=kin_bounds[1])].max()+0.1*kin_range)\n",
    "                \n",
    "                # redraw figure\n",
    "                fig.canvas.draw_idle()\n",
    "             \n",
    "    fig.canvas.mpl_connect('motion_notify_event', mouse_move) \n",
    "    \n",
    "    # find max absolute value of 2D data in the specified zoom mode of the plot\n",
    "    def get_maxvalue(_xlim, _ylim, _xvals, _yvals, _data_array):\n",
    "        y_filter = (_yvals>=_ylim[0]) & (_yvals<=_ylim[1])\n",
    "        x_filter = (_xvals>=_xlim[0]) & (_xvals<=_xlim[1])\n",
    "        \n",
    "        if not np.all(y_filter == False) and not np.all(x_filter == False):\n",
    "            return np.amax(np.abs(_data_array[y_filter][:,x_filter]))\n",
    "        else:\n",
    "            return 0\n",
    "    \n",
    "    def on_xlims_change(event_ax):\n",
    "        ax_kin.set_xlim(event_ax.get_xlim())\n",
    "        \n",
    "        new_max = get_maxvalue(event_ax.get_xlim(),event_ax.get_ylim(),_x,_y,_data)\n",
    "        if new_max > 0:\n",
    "            main_plot.set_clim(vmin=-new_max, vmax=new_max)\n",
    "\n",
    "    def on_ylims_change(event_ax):\n",
    "        ax_spec.set_ylim(event_ax.get_ylim())\n",
    "        \n",
    "        new_max = get_maxvalue(event_ax.get_xlim(),event_ax.get_ylim(),_x,_y,_data)\n",
    "        if new_max > 0:\n",
    "            main_plot.set_clim(vmin=-new_max, vmax=new_max)        \n",
    "\n",
    "    ax_main.callbacks.connect('xlim_changed', on_xlims_change)\n",
    "    ax_main.callbacks.connect('ylim_changed', on_ylims_change)\n",
    "   \n",
    "    plt.show(block=False)"
   ],
   "metadata": {
    "collapsed": false
   },
   "id": "970235454629eb50"
  },
  {
   "cell_type": "markdown",
   "source": [
    "# Import data"
   ],
   "metadata": {
    "collapsed": false
   },
   "id": "657a3ef484c4cc98"
  },
  {
   "cell_type": "code",
   "outputs": [],
   "source": [
    "#Pump Wavelenght (in nm)\n",
    "Pump = 400 \n",
    "\n",
    "#Wavelength Calibaration\n",
    "pixels = np.arange(0, 2048)\n",
    "calibration = [0.246, 297.1]  # A and B linear calibration parameters\n",
    "lambda_values = calibration[0] * pixels + calibration[1]\n",
    "\n",
    "#Get time vector data file\n",
    "time_file = askopenfilename(filetypes=[(\"Text files\", \"*.txt\")], title=\"Select Time vector data\")\n",
    "time = np.loadtxt(time_file)\n",
    "time = time / 1000  # convert from fs to ps\n",
    "\n",
    "# Get TA scan files\n",
    "ta_scan_files = askopenfilenames(filetypes=[(\"Text files\", \"*.txt\")], title=\"Select TA scan files\")\n",
    "\n",
    "if len(ta_scan_files) > 1:\n",
    "    Full_Data = np.zeros((2048, len(time), len(ta_scan_files))) #Array that will contain all the \n",
    "    for n, file in enumerate(ta_scan_files):\n",
    "        data = np.loadtxt(file)\n",
    "        Full_Data[:, :, n] = data  # save data array to 3D array (lambda, time, scan)\n",
    "    \n",
    "    for ii in range(len(ta_scan_files)): #Flip the sign if pump scatter is not negative.\n",
    "        for jj in range(len(time)):\n",
    "            if Full_Data[Pump, jj, ii] > 0:\n",
    "                Full_Data[:, jj, ii] *= -1\n",
    "\n",
    "    scan = np.mean(Full_Data, axis=2)\n",
    "else:\n",
    "    scan = np.loadtxt(ta_scan_files[0])\n",
    "# Now 'scan' contains the processed data\n",
    "\n",
    "#Create an xarray to manipulate the data (much easier)\n",
    "dataset = xr.Dataset(\n",
    "    {\n",
    "        \"data\": ([\"time\",\"spectral\",], np.transpose(scan))\n",
    "    },\n",
    "    coords={\n",
    "        \"time\": time,\n",
    "        \"spectral\": lambda_values\n",
    "    }\n",
    ")\n",
    "\n",
    "# Print the dataset\n",
    "print(dataset)"
   ],
   "metadata": {
    "collapsed": false
   },
   "id": "3175b767965a52fc"
  },
  {
   "cell_type": "markdown",
   "source": [
    "# Heat map visualization of the data"
   ],
   "metadata": {
    "collapsed": false
   },
   "id": "b2619d5c138d4ebd"
  },
  {
   "cell_type": "code",
   "outputs": [],
   "source": [
    "heatmap_interactive(time, lambda_values, scan,'Averaged scan plot',_symlog=False)"
   ],
   "metadata": {
    "collapsed": false
   },
   "id": "ba098a27695bc91d"
  },
  {
   "cell_type": "markdown",
   "source": [
    "# Look at a specific TA trace or spectrum"
   ],
   "metadata": {
    "collapsed": false
   },
   "id": "880bdf4d777d2586"
  },
  {
   "cell_type": "markdown",
   "source": [
    "## TA trace"
   ],
   "metadata": {
    "collapsed": false
   },
   "id": "8e706d6e032506f2"
  },
  {
   "cell_type": "code",
   "outputs": [],
   "source": [
    "plot_data = dataset.data.sel(spectral=[518.1], method=\"nearest\").sel(time=slice(None, 10))\n",
    "plot_data.plot.line(x=\"time\", aspect=2, size=5);"
   ],
   "metadata": {
    "collapsed": false
   },
   "id": "d16a2ae213ceb072"
  },
  {
   "cell_type": "markdown",
   "source": [
    "## TA spectrum"
   ],
   "metadata": {
    "collapsed": false
   },
   "id": "329c984aa7ed15e7"
  },
  {
   "cell_type": "code",
   "outputs": [],
   "source": [
    "lot_data = dataset.data.sel(time=[10,25], method=\"nearest\").sel(spectral=slice(409, 755))\n",
    "ax = plot_data.plot.line(x=\"spectral\", aspect=2, size=5);\n",
    "plt.grid(True) \n",
    "plt.show()"
   ],
   "metadata": {
    "collapsed": false
   },
   "id": "7de598618f659038"
  },
  {
   "cell_type": "markdown",
   "source": [],
   "metadata": {
    "collapsed": false
   },
   "id": "a5f50e3c61d66f14"
  }
 ],
 "metadata": {
  "kernelspec": {
   "display_name": "Python 3",
   "language": "python",
   "name": "python3"
  },
  "language_info": {
   "codemirror_mode": {
    "name": "ipython",
    "version": 2
   },
   "file_extension": ".py",
   "mimetype": "text/x-python",
   "name": "python",
   "nbconvert_exporter": "python",
   "pygments_lexer": "ipython2",
   "version": "2.7.6"
  }
 },
 "nbformat": 4,
 "nbformat_minor": 5
}
